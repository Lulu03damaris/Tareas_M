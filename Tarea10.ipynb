{
  "nbformat": 4,
  "nbformat_minor": 0,
  "metadata": {
    "colab": {
      "provenance": [],
      "authorship_tag": "ABX9TyPhn88B3dIkRGQz6mzMRjAy",
      "include_colab_link": true
    },
    "kernelspec": {
      "name": "python3",
      "display_name": "Python 3"
    },
    "language_info": {
      "name": "python"
    }
  },
  "cells": [
    {
      "cell_type": "markdown",
      "metadata": {
        "id": "view-in-github",
        "colab_type": "text"
      },
      "source": [
        "<a href=\"https://colab.research.google.com/github/Lulu03damaris/Tareas_M/blob/main/Tarea10.ipynb\" target=\"_parent\"><img src=\"https://colab.research.google.com/assets/colab-badge.svg\" alt=\"Open In Colab\"/></a>"
      ]
    },
    {
      "cell_type": "markdown",
      "source": [
        "***TAREA N-10***\n",
        "*DESCOMPOSICION LU*\n"
      ],
      "metadata": {
        "id": "gPGVMgXRmbmp"
      }
    },
    {
      "cell_type": "markdown",
      "source": [
        "- Ejercicio 1"
      ],
      "metadata": {
        "id": "XWTbAtKemnbt"
      }
    },
    {
      "cell_type": "code",
      "execution_count": null,
      "metadata": {
        "id": "nKx6weDEQx7k"
      },
      "outputs": [],
      "source": [
        "import numpy as np\n",
        "def multiply(A, B):\n",
        "  C = np.dot(A, B)\n",
        "  return C\n"
      ]
    },
    {
      "cell_type": "code",
      "source": [
        "A = np.array([[2, -3], [3, 1]])\n",
        "B = np.array([[1, 5], [2, 0]])\n",
        "print(\"Ejercicio  a\")\n",
        "\n",
        "multiply(A, B)"
      ],
      "metadata": {
        "colab": {
          "base_uri": "https://localhost:8080/"
        },
        "id": "wxzX3T34fqXj",
        "outputId": "5906e919-be4e-4d6d-fea2-fd506b4e277d"
      },
      "execution_count": null,
      "outputs": [
        {
          "output_type": "stream",
          "name": "stdout",
          "text": [
            "Ejercicio  a\n"
          ]
        },
        {
          "output_type": "execute_result",
          "data": {
            "text/plain": [
              "array([[-4, 10],\n",
              "       [ 5, 15]])"
            ]
          },
          "metadata": {},
          "execution_count": 6
        }
      ]
    },
    {
      "cell_type": "code",
      "source": [
        "A = np.array([[2, -3], [3, 1]])\n",
        "B = np.array([[1, 5, -4], [-3, 2, 0]])\n",
        "print(\"Ejercicio  b\")\n",
        "multiply(A, B)"
      ],
      "metadata": {
        "colab": {
          "base_uri": "https://localhost:8080/"
        },
        "id": "Qh2M_ryDgW7K",
        "outputId": "ab1efa48-7d27-4757-8a79-d8f36e6f7c88"
      },
      "execution_count": null,
      "outputs": [
        {
          "output_type": "stream",
          "name": "stdout",
          "text": [
            "Ejercicio  b\n"
          ]
        },
        {
          "output_type": "execute_result",
          "data": {
            "text/plain": [
              "array([[ 11,   4,  -8],\n",
              "       [  0,  17, -12]])"
            ]
          },
          "metadata": {},
          "execution_count": 8
        }
      ]
    },
    {
      "cell_type": "code",
      "source": [
        "A = np.array([[2, -3, 1], [4, 3, 0], [5, 2, -4]])\n",
        "B = np.array([[0, 1, -2], [1, 0, -1], [2, 3, -2]])\n",
        "print(\"Ejercicio  c\")\n",
        "multiply(A, B)"
      ],
      "metadata": {
        "colab": {
          "base_uri": "https://localhost:8080/"
        },
        "id": "SnOFPo58mavO",
        "outputId": "2621655c-c36d-4949-a48e-7ad2159d5732"
      },
      "execution_count": null,
      "outputs": [
        {
          "output_type": "stream",
          "name": "stdout",
          "text": [
            "Ejercicio  c\n"
          ]
        },
        {
          "output_type": "execute_result",
          "data": {
            "text/plain": [
              "array([[ -1,   5,  -3],\n",
              "       [  3,   4, -11],\n",
              "       [ -6,  -7,  -4]])"
            ]
          },
          "metadata": {},
          "execution_count": 10
        }
      ]
    },
    {
      "cell_type": "code",
      "source": [
        "A = np.array([[2, 1, 2], [-2, 3, 0], [2, -1, 3]])\n",
        "B = np.array([[1, -2], [-4, 1], [0, 2]])\n",
        "print(\"Ejercicio  d\")\n",
        "multiply(A, B)"
      ],
      "metadata": {
        "colab": {
          "base_uri": "https://localhost:8080/"
        },
        "id": "nWEiPg-Bm_lx",
        "outputId": "c30b1a7f-a8c0-45ab-9707-9ec356771b96"
      },
      "execution_count": null,
      "outputs": [
        {
          "output_type": "stream",
          "name": "stdout",
          "text": [
            "Ejercicio  d\n"
          ]
        },
        {
          "output_type": "execute_result",
          "data": {
            "text/plain": [
              "array([[ -2,   1],\n",
              "       [-14,   7],\n",
              "       [  6,   1]])"
            ]
          },
          "metadata": {},
          "execution_count": 11
        }
      ]
    },
    {
      "cell_type": "markdown",
      "source": [
        "- Ejercicio 2"
      ],
      "metadata": {
        "id": "TdUM4yt3nqt9"
      }
    },
    {
      "cell_type": "code",
      "source": [
        "import numpy as np\n",
        "\n",
        "def inversa_de_lista(matrices):\n",
        "    inversas = []\n",
        "    for i, M in enumerate(matrices):\n",
        "        det = np.linalg.det(M)\n",
        "        if det != 0:\n",
        "            inv = np.linalg.inv(M)\n",
        "            inversas.append(inv)\n",
        "            print(f\"Matriz {i+1} es no singular y su inversa es:\\n{inv}\\n\")\n",
        "        else:\n",
        "            inversas.append(None)\n",
        "            print(f\"Matriz {i+1} es singular y no tiene inversa.\\n\")\n",
        "    return inversas\n",
        "\n",
        "def inversa(A):\n",
        "    det = np.linalg.det(A)\n",
        "    if det != 0:\n",
        "        inv = np.linalg.inv(A)\n",
        "        return inv\n",
        "    else:\n",
        "        print(\"La matriz proporcionada es singular y no tiene inversa.\")\n",
        "        return None\n",
        "\n",
        "# Ejemplo de uso con una lista de matrices\n",
        "matrices = [\n",
        "    np.array([[4, 2, 6], [3, 0, 7], [-2, -1, -3]]),\n",
        "    np.array([[1, 2, 0], [2, 1, -1], [3, 1, 1]]),\n",
        "    np.array([[1, 1, -1, 1], [1, 2, -4, -2], [2, 1, 1, 5], [-1, 0, -2, -4]]),\n",
        "    np.array([[4, 0, 0, 0], [6, 7, 0, 0], [9, 11, 1, 0], [5, 4, 1, 1]])\n",
        "]\n",
        "\n",
        "_ = inversa_de_lista(matrices)\n",
        "\n",
        "# Ejemplo de uso con una única matriz\n",
        "A = matrices[0]\n",
        "inv_A = inversa(A)\n",
        "if inv_A is not None:\n",
        "    print(f\"La inversa de la matriz A es:\\n{inv_A}\")\n"
      ],
      "metadata": {
        "id": "zQ3lojsPtJ_S",
        "outputId": "e90c64df-f990-41a6-e905-429d76944414",
        "colab": {
          "base_uri": "https://localhost:8080/"
        }
      },
      "execution_count": null,
      "outputs": [
        {
          "output_type": "stream",
          "name": "stdout",
          "text": [
            "Matriz 1 es singular y no tiene inversa.\n",
            "\n",
            "Matriz 2 es no singular y su inversa es:\n",
            "[[-0.25   0.25   0.25 ]\n",
            " [ 0.625 -0.125 -0.125]\n",
            " [ 0.125 -0.625  0.375]]\n",
            "\n",
            "Matriz 3 es singular y no tiene inversa.\n",
            "\n",
            "Matriz 4 es no singular y su inversa es:\n",
            "[[ 0.25        0.          0.          0.        ]\n",
            " [-0.21428571  0.14285714 -0.         -0.        ]\n",
            " [ 0.10714286 -1.57142857  1.         -0.        ]\n",
            " [-0.5         1.         -1.          1.        ]]\n",
            "\n",
            "La matriz proporcionada es singular y no tiene inversa.\n"
          ]
        }
      ]
    },
    {
      "cell_type": "markdown",
      "source": [
        "- Ejercicio 3"
      ],
      "metadata": {
        "id": "8LizdX53Vu8r"
      }
    },
    {
      "cell_type": "code",
      "source": [
        "import numpy as np\n",
        "\n",
        "A = np.array([[1, -2, 2, -1], [1, 0, -1, 1], [2, 1, 3, -4], [0, -1, 1, -1]])\n",
        "b1 = np.array([6, 4, -2, 5])\n",
        "b2 = np.array([1, 1, 2, -1])\n",
        "\n",
        "x1 = np.linalg.solve(A, b1)\n",
        "x2 = np.linalg.solve(A, b2)\n",
        "\n",
        "print(\"Solución del primer sistema:\\n\", x1)\n",
        "print(\"\\nSolución del segundo sistema:\\n\", x2)\n"
      ],
      "metadata": {
        "id": "UScqYnc8tKgN",
        "colab": {
          "base_uri": "https://localhost:8080/"
        },
        "outputId": "f9967dbb-d3fc-47e6-a1dd-f9e8358e844b"
      },
      "execution_count": null,
      "outputs": [
        {
          "output_type": "stream",
          "name": "stdout",
          "text": [
            "Solución del primer sistema:\n",
            " [ 2.14285714 -6.85714286 -8.         -6.14285714]\n",
            "\n",
            "Solución del segundo sistema:\n",
            " [1.14285714 1.14285714 2.         1.85714286]\n"
          ]
        }
      ]
    },
    {
      "cell_type": "markdown",
      "source": [
        "- Ejercicio 4"
      ],
      "metadata": {
        "id": "mVWiaP9RrWtY"
      }
    },
    {
      "cell_type": "code",
      "source": [
        "import sympy as sp\n",
        "\n",
        "alpha = sp.symbols('alpha')\n",
        "\n",
        "A = sp.Matrix([\n",
        "    [1, -1, alpha],\n",
        "    [2, 2, 1],\n",
        "    [0, alpha, -3/2]\n",
        "])\n",
        "\n",
        "det_A = A.det()\n",
        "\n",
        "singular_values = sp.solve(det_A, alpha)\n",
        "\n",
        "print(\"Valores de α que hacen la matriz singular:\", singular_values)"
      ],
      "metadata": {
        "colab": {
          "base_uri": "https://localhost:8080/"
        },
        "id": "rlGLE1U8rGWk",
        "outputId": "73aef252-d1f1-4ab0-9b37-18dfd8c146be"
      },
      "execution_count": null,
      "outputs": [
        {
          "output_type": "stream",
          "name": "stdout",
          "text": [
            "Valores de α que hacen la matriz singular: [-1.50000000000000, 2.00000000000000]\n"
          ]
        }
      ]
    },
    {
      "cell_type": "markdown",
      "source": [
        "- Ejercicio 5"
      ],
      "metadata": {
        "id": "taIJuagLry1b"
      }
    },
    {
      "cell_type": "code",
      "source": [
        "import numpy as np\n",
        "\n",
        "# Función para realizar la descomposición LU\n",
        "def lu_decomposition(A):\n",
        "    n = A.shape[0]\n",
        "    L = np.eye(n)\n",
        "    U = A.copy()\n",
        "\n",
        "    for i in range(n):\n",
        "        for j in range(i+1, n):\n",
        "            L[j, i] = U[j, i] / U[i, i]\n",
        "            U[j] = U[j] - L[j, i] * U[i]\n",
        "\n",
        "    return L, U\n",
        "\n",
        "def forward_substitution(L, b):\n",
        "    n = L.shape[0]\n",
        "    y = np.zeros(n)\n",
        "\n",
        "    for i in range(n):\n",
        "        y[i] = b[i] - np.dot(L[i, :i], y[:i])\n",
        "\n",
        "    return y\n",
        "\n",
        "def backward_substitution(U, y):\n",
        "    n = U.shape[0]\n",
        "    x = np.zeros(n)\n",
        "\n",
        "    for i in range(n-1, -1, -1):\n",
        "        x[i] = (y[i] - np.dot(U[i, i+1:], x[i+1:])) / U[i, i]\n",
        "\n",
        "    return x\n",
        "\n",
        "def solve_lu(A, b):\n",
        "    L, U = lu_decomposition(A)\n",
        "    y = forward_substitution(L, b)\n",
        "    x = backward_substitution(U, y)\n",
        "    return x\n",
        "\n",
        "A_list = [\n",
        "    np.array([[1, 0, 0], [2, 1, 0], [-1, 0, 1]], dtype=float),\n",
        "    np.array([[2, 0, 0], [-1, 1, 0], [3, 2, -1]], dtype=float)\n",
        "]\n",
        "\n",
        "B_list = [\n",
        "    np.array([[2, 3, -1], [0, -2, 1], [0, 0, 3]], dtype=float),\n",
        "    np.array([[1, 1, 1], [0, 1, 2], [0, 0, 1]], dtype=float)\n",
        "]\n",
        "\n",
        "b_list = [\n",
        "    np.array([2, -1, 1], dtype=float),\n",
        "    np.array([-1, 3, 0], dtype=float)\n",
        "]\n",
        "\n",
        "A_combined = [A @ B for A, B in zip(A_list, B_list)]\n",
        "\n",
        "solutions = [solve_lu(A, b) for A, b in zip(A_combined, b_list)]\n",
        "\n",
        "for i, solution in enumerate(solutions):\n",
        "    print(f\"Solución del sistema {chr(97+i)}: {solution}\")"
      ],
      "metadata": {
        "colab": {
          "base_uri": "https://localhost:8080/"
        },
        "id": "G3Ikc1Rvr0Xg",
        "outputId": "7a3f74df-1cbd-4bd2-e5b4-7aa36ea9816f"
      },
      "execution_count": null,
      "outputs": [
        {
          "output_type": "stream",
          "name": "stdout",
          "text": [
            "Solución del sistema a: [-3.  3.  1.]\n",
            "Solución del sistema b: [ 0.5 -4.5  3.5]\n"
          ]
        }
      ]
    },
    {
      "cell_type": "markdown",
      "source": [
        "- Ejercicio 6"
      ],
      "metadata": {
        "id": "2wOXc6AGsCVT"
      }
    },
    {
      "cell_type": "code",
      "source": [
        "from scipy.linalg import lu\n",
        "\n",
        "# Definir matrices\n",
        "matrices = [\n",
        "    np.array([[2, -1, 1], [3, 3, 9], [3, 3, 5]]),\n",
        "    np.array([[1.012, -2.132, 3.104], [-2.132, 4.096, -7.013], [3.104, -7.013, 0.014]]),\n",
        "    np.array([[2, 0, 0, 0], [1, 1.5, 0, 0], [0, -3, 0.5, 0], [2, -2, 1, 1]]),\n",
        "    np.array([[2.1756, 4.0231, -2.1732, 5.1967], [-4.0231, 6.0000, 0, 1.1973], [-1.0000, -5.2107, 1.1111, 0], [6.0235, 7.0000, 0, -4.1561]])\n",
        "]\n",
        "\n",
        "# Factorización LU\n",
        "for i, M in enumerate(matrices):\n",
        "    P, L, U = lu(M)\n",
        "    print(f\"\\nMatriz {i+1}:\")\n",
        "    print(\"\\nL:\\n\", L)\n",
        "    print(\"\\nU:\\n\", U)"
      ],
      "metadata": {
        "colab": {
          "base_uri": "https://localhost:8080/"
        },
        "id": "EET1KmhRsBTN",
        "outputId": "d146fd45-b112-414a-c971-e236f5c97dab"
      },
      "execution_count": null,
      "outputs": [
        {
          "output_type": "stream",
          "name": "stdout",
          "text": [
            "\n",
            "Matriz 1:\n",
            "\n",
            "L:\n",
            " [[ 1.          0.          0.        ]\n",
            " [ 0.66666667  1.          0.        ]\n",
            " [ 1.         -0.          1.        ]]\n",
            "\n",
            "U:\n",
            " [[ 3.  3.  9.]\n",
            " [ 0. -3. -5.]\n",
            " [ 0.  0. -4.]]\n",
            "\n",
            "Matriz 2:\n",
            "\n",
            "L:\n",
            " [[ 1.          0.          0.        ]\n",
            " [-0.68685567  1.          0.        ]\n",
            " [ 0.32603093 -0.21424728  1.        ]]\n",
            "\n",
            "U:\n",
            " [[ 3.104      -7.013       0.014     ]\n",
            " [ 0.         -0.72091881 -7.00338402]\n",
            " [ 0.          0.          1.59897957]]\n",
            "\n",
            "Matriz 3:\n",
            "\n",
            "L:\n",
            " [[ 1.          0.          0.          0.        ]\n",
            " [ 0.          1.          0.          0.        ]\n",
            " [ 1.          0.66666667  1.          0.        ]\n",
            " [ 0.5        -0.5         0.375       1.        ]]\n",
            "\n",
            "U:\n",
            " [[ 2.          0.          0.          0.        ]\n",
            " [ 0.         -3.          0.5         0.        ]\n",
            " [ 0.          0.          0.66666667  1.        ]\n",
            " [ 0.          0.          0.         -0.375     ]]\n",
            "\n",
            "Matriz 4:\n",
            "\n",
            "L:\n",
            " [[ 1.          0.          0.          0.        ]\n",
            " [-0.66790072  1.          0.          0.        ]\n",
            " [ 0.36118536  0.14002434  1.          0.        ]\n",
            " [-0.16601644 -0.37924771 -0.5112737   1.        ]]\n",
            "\n",
            "U:\n",
            " [[ 6.0235      7.          0.         -4.1561    ]\n",
            " [ 0.         10.67530506  0.         -1.57856219]\n",
            " [ 0.          0.         -2.1732      6.91885959]\n",
            " [ 0.          0.          0.          2.24878393]]\n"
          ]
        }
      ]
    },
    {
      "cell_type": "markdown",
      "source": [
        "- Ejercicio 7"
      ],
      "metadata": {
        "id": "ThQuSZWxt3K8"
      }
    },
    {
      "cell_type": "code",
      "source": [
        "import numpy as np\n",
        "\n",
        "def lu_decomposition(A):\n",
        "    n = A.shape[0]\n",
        "    L = np.eye(n)\n",
        "    U = A.copy()\n",
        "\n",
        "    for i in range(n):\n",
        "        for j in range(i+1, n):\n",
        "            L[j, i] = U[j, i] / U[i, i]\n",
        "            U[j] = U[j] - L[j, i] * U[i]\n",
        "\n",
        "    return L, U\n",
        "\n",
        "def forward_substitution(L, b):\n",
        "    n = L.shape[0]\n",
        "    y = np.zeros(n)\n",
        "\n",
        "    for i in range(n):\n",
        "        y[i] = b[i] - np.dot(L[i, :i], y[:i])\n",
        "\n",
        "    return y\n",
        "\n",
        "def backward_substitution(U, y):\n",
        "    n = U.shape[0]\n",
        "    x = np.zeros(n)\n",
        "\n",
        "    for i in range(n-1, -1, -1):\n",
        "        x[i] = (y[i] - np.dot(U[i, i+1:], x[i+1:])) / U[i, i]\n",
        "\n",
        "    return x\n",
        "\n",
        "def solve_lu(A, b):\n",
        "    L, U = lu_decomposition(A)\n",
        "    y = forward_substitution(L, b)\n",
        "    x = backward_substitution(U, y)\n",
        "    return x\n",
        "\n",
        "A_list = [\n",
        "    np.array([[2, -1, 1], [3, 3, 9], [3, 3, 5]], dtype=float),\n",
        "    np.array([[1.012, -2.132, 3.104], [-2.132, 4.096, -7.013], [3.104, -7.013, 0.014]], dtype=float),\n",
        "    np.array([[2, 0, 0, 0], [1, 1.5, 0, 0], [0, -3, 0.5, 0], [2, -2, 1, 1]], dtype=float),\n",
        "    np.array([[2.1756, 4.0231, -2.1732, 5.1967], [-4.0231, 6.0000, 0, 1.1973], [-1.0000, -5.2107, 1.1111, 0], [6.0235, 7.0000, 0, -4.1561]], dtype=float)\n",
        "]\n",
        "\n",
        "b_list = [\n",
        "    np.array([-1, 0, 4], dtype=float),\n",
        "    np.array([1.984, -5.049, -3.895], dtype=float),\n",
        "    np.array([3, 4.5, -6.6, 0.8], dtype=float),\n",
        "    np.array([17.102, -6.1593, 3.0004, 0], dtype=float)\n",
        "]\n",
        "\n",
        "solutions = [solve_lu(A, b) for A, b in zip(A_list, b_list)]\n",
        "\n",
        "for i, solution in enumerate(solutions):\n",
        "    print(f\"Solución del sistema {chr(97+i)}: {solution}\")"
      ],
      "metadata": {
        "colab": {
          "base_uri": "https://localhost:8080/"
        },
        "id": "y_Uc-Wr3t4vG",
        "outputId": "f627bcd7-04f1-4ee9-c3fe-164da410e56e"
      },
      "execution_count": null,
      "outputs": [
        {
          "output_type": "stream",
          "name": "stdout",
          "text": [
            "Solución del sistema a: [ 1.  2. -1.]\n",
            "Solución del sistema b: [1. 1. 1.]\n",
            "Solución del sistema c: [ 1.5  2.  -1.2  3. ]\n",
            "Solución del sistema d: [2.9398512  0.0706777  5.67773512 4.37981223]\n"
          ]
        }
      ]
    }
  ]
}