{
  "nbformat": 4,
  "nbformat_minor": 0,
  "metadata": {
    "colab": {
      "provenance": [],
      "authorship_tag": "ABX9TyOJg3u+Cr41ulpDgrZsgQ3I",
      "include_colab_link": true
    },
    "kernelspec": {
      "name": "python3",
      "display_name": "Python 3"
    },
    "language_info": {
      "name": "python"
    }
  },
  "cells": [
    {
      "cell_type": "markdown",
      "metadata": {
        "id": "view-in-github",
        "colab_type": "text"
      },
      "source": [
        "<a href=\"https://colab.research.google.com/github/Lulu03damaris/Tareas_M/blob/main/Tarea05.ipynb\" target=\"_parent\"><img src=\"https://colab.research.google.com/assets/colab-badge.svg\" alt=\"Open In Colab\"/></a>"
      ]
    },
    {
      "cell_type": "markdown",
      "source": [
        "**Tarea N- 5**\n",
        "Metodo de la secante y de newton"
      ],
      "metadata": {
        "id": "B6m9WWUvA2bU"
      }
    },
    {
      "cell_type": "markdown",
      "source": [
        "- Ejercicio 1"
      ],
      "metadata": {
        "id": "0i74uR3UTdmc"
      }
    },
    {
      "cell_type": "code",
      "execution_count": 52,
      "metadata": {
        "colab": {
          "base_uri": "https://localhost:8080/"
        },
        "id": "IS78qocwAuh3",
        "outputId": "45d2d151-15f0-400a-e28d-c843513f6b99"
      },
      "outputs": [
        {
          "output_type": "stream",
          "name": "stdout",
          "text": [
            " 1. Método de Newton, p2: -0.8654740331016162\n",
            "\n",
            "1. Método de la Secante, p2: -0.865474085702028\n"
          ]
        }
      ],
      "source": [
        "#Ejercicio 1 M. Newton\n",
        "import numpy as np\n",
        "\n",
        "def f(x):\n",
        "    return -x**3 - np.cos(x)\n",
        "\n",
        "def df(x):\n",
        "    return -3*x**2 + np.sin(x)\n",
        "\n",
        "def newton_method(p0, tol=1e-4, max_iter=100):\n",
        "    p = p0\n",
        "    for _ in range(max_iter):\n",
        "        p_next = p - f(p) / df(p)\n",
        "        if abs(p_next - p) < tol:\n",
        "            return p_next\n",
        "        p = p_next\n",
        "    return p\n",
        "\n",
        "# Inicialización\n",
        "p0 = -1\n",
        "p2_newton = newton_method(p0)\n",
        "print(f\" 1. Método de Newton, p2: {p2_newton}\")\n",
        "\n",
        "#Ejercicio 1 M. Secante\n",
        "def secant_method(p0, p1, tol=1e-4, max_iter=100):\n",
        "    for _ in range(max_iter):\n",
        "        if abs(f(p1) - f(p0)) < np.finfo(float).eps:\n",
        "            raise ValueError(\"División por cero en el método de la secante\")\n",
        "        p2 = p1 - f(p1) * (p1 - p0) / (f(p1) - f(p0))\n",
        "        if abs(p2 - p1) < tol:\n",
        "            return p2\n",
        "        p0, p1 = p1, p2\n",
        "    return p2\n",
        "\n",
        "# Inicialización\n",
        "p0 = -1\n",
        "p1 = -0.5  # Necesitamos un segundo punto para el método de la secante\n",
        "p2_secant = secant_method(p0, p1)\n",
        "print(f\"\\n1. Método de la Secante, p2: {p2_secant}\")"
      ]
    },
    {
      "cell_type": "markdown",
      "source": [
        "- Ejercicio 2"
      ],
      "metadata": {
        "id": "wYdBXeSwTgvU"
      }
    },
    {
      "cell_type": "code",
      "source": [
        "#Ejercicio 2. a M. Newton\n",
        "import numpy as np\n",
        "\n",
        "def f_2a(x):\n",
        "    return x**3 - 2*x ** 2 - 5\n",
        "\n",
        "def df_2a(x):\n",
        "    return 3*x**2 -4*x\n",
        "\n",
        "def newton_method(f_2a, df_2a, p0, tol=1e-4, max_iter=100):\n",
        "    p = p0\n",
        "    for _ in range(max_iter):\n",
        "        p_next = p - f_2a(p) / df_2a(p)\n",
        "        if abs(p_next - p) < tol:\n",
        "            return p_next\n",
        "        p = p_next\n",
        "    return p\n",
        "\n",
        "# Inicialización\n",
        "p0 = 2.5\n",
        "p2a_newton = newton_method(f_2a, df_2a, p0)\n",
        "print(f\"2- a.Método de Newton, p2: {p2a_newton}\")\n",
        "\n",
        "#Ejercicio 2. a M. Secante\n",
        "import numpy as np\n",
        "\n",
        "def f_2a(x):\n",
        "    return x**3 - 2*x ** 2 - 5\n",
        "\n",
        "def secant_method(p0, p1, tol=1e-4, max_iter=100):\n",
        "    for _ in range(max_iter):\n",
        "        if abs(f_2a(p1) - f_2a(p0)) < np.finfo(float).eps:\n",
        "            raise ValueError(\"División por cero en el método de la secante\")\n",
        "        p2 = p1 - f_2a(p1) * (p1 - p0) / (f_2a(p1) - f_2a(p0))\n",
        "        if abs(p2 - p1) < tol:\n",
        "            return p2\n",
        "        p0, p1 = p1, p2\n",
        "    return p2\n",
        "\n",
        "# Inicialización\n",
        "p0 = 1\n",
        "p1 = 4\n",
        "p2a_secant = secant_method(p0, p1)\n",
        "print(f\"\\n2- a.Método de la Secante, p2: {p2a_secant}\")"
      ],
      "metadata": {
        "colab": {
          "base_uri": "https://localhost:8080/"
        },
        "id": "rK37_0fVO7hO",
        "outputId": "1acd64e2-f3b3-4308-ef34-6bfe11633af8"
      },
      "execution_count": 53,
      "outputs": [
        {
          "output_type": "stream",
          "name": "stdout",
          "text": [
            "2- a.Método de Newton, p2: 2.6906474480286153\n",
            "\n",
            "2- a.Método de la Secante, p2: 2.690647447883773\n"
          ]
        }
      ]
    },
    {
      "cell_type": "markdown",
      "source": [
        "ejer. b"
      ],
      "metadata": {
        "id": "lWq_M4oBVM-t"
      }
    },
    {
      "cell_type": "code",
      "source": [
        "#Ejercicio 2. b M. Newton\n",
        "import numpy as np\n",
        "\n",
        "def f_2b(x):\n",
        "    return x**3 + 3*x ** 2 - 1\n",
        "\n",
        "def df_2b(x):\n",
        "    return 3*x**2 +6*x\n",
        "\n",
        "def newton_method(f_2b, df_2b, p0, tol=1e-4, max_iter=100):\n",
        "    p = p0\n",
        "    for _ in range(max_iter):\n",
        "        p_next = p - f_2b(p) / df_2b(p)\n",
        "        if abs(p_next - p) < tol:\n",
        "            return p_next\n",
        "        p = p_next\n",
        "    return p\n",
        "\n",
        "# Inicialización\n",
        "p0 = -2.5\n",
        "p2b_newton = newton_method(f_2b, df_2b, p0)\n",
        "print(f\"2- b.Método de Newton, p2: {p2b_newton}\")\n",
        "\n",
        "#Ejercicio 2. b M. Secante\n",
        "import numpy as np\n",
        "\n",
        "def f_2b(x):\n",
        "    return x**3 + 3*x ** 2 - 1\n",
        "\n",
        "def secant_method(p0, p1, tol=1e-4, max_iter=100):\n",
        "    for _ in range(max_iter):\n",
        "        if abs(f_2b(p1) - f_2b(p0)) < np.finfo(float).eps:\n",
        "            raise ValueError(\"División por cero en el método de la secante\")\n",
        "        p2 = p1 - f_2b(p1) * (p1 - p0) / (f_2b(p1) - f_2b(p0))\n",
        "        if abs(p2 - p1) < tol:\n",
        "            return p2\n",
        "        p0, p1 = p1, p2\n",
        "    return p2\n",
        "\n",
        "# Inicialización\n",
        "p0 = -3\n",
        "p1 = -2\n",
        "p2b_secant = secant_method(p0, p1)\n",
        "print(f\"2- b.Método de la Secante, p2: {p2b_secant}\")"
      ],
      "metadata": {
        "colab": {
          "base_uri": "https://localhost:8080/"
        },
        "id": "jLJDdZvKT9P9",
        "outputId": "2f25b822-88bc-42da-f701-71c16b8751a3"
      },
      "execution_count": 36,
      "outputs": [
        {
          "output_type": "stream",
          "name": "stdout",
          "text": [
            "2- b.Método de Newton, p2: -2.879385241571822\n",
            "2- b.Método de la Secante, p2: -2.879385194736809\n"
          ]
        }
      ]
    },
    {
      "cell_type": "markdown",
      "source": [
        "ejer. c"
      ],
      "metadata": {
        "id": "lYJiUXNSV-zJ"
      }
    },
    {
      "cell_type": "code",
      "source": [
        "#Ejercicio 2. c M. Newton\n",
        "import numpy as np\n",
        "import math\n",
        "\n",
        "def f_2c(x):\n",
        "    return x - np.cos(x)\n",
        "\n",
        "def df_2c(x):\n",
        "    return 1+ np.sin(x)\n",
        "\n",
        "def newton_method(f_2c, df_2c, p0, tol=1e-4, max_iter=100):\n",
        "    p = p0\n",
        "    for _ in range(max_iter):\n",
        "        p_next = p - f_2c(p) / df_2c(p)\n",
        "        if abs(p_next - p) < tol:\n",
        "            return p_next\n",
        "        p = p_next\n",
        "    return p\n",
        "\n",
        "# Inicialización\n",
        "p0 = math.pi / 4\n",
        "p2c_newton = newton_method(f_2c, df_2c, p0)\n",
        "print(f\"2- c.Método de Newton, p2: {p2c_newton}\")\n",
        "\n",
        "#Ejercicio 2. c M. Secante\n",
        "import numpy as np\n",
        "import math\n",
        "\n",
        "def f_2c(x):\n",
        "    return x - np.cos(x)\n",
        "\n",
        "def secant_method(p0, p1, tol=1e-4, max_iter=100):\n",
        "    for _ in range(max_iter):\n",
        "        if abs(f_2c(p1) - f_2c(p0)) < np.finfo(float).eps:\n",
        "            raise ValueError(\"División por cero en el método de la secante\")\n",
        "        p2 = p1 - f_2c(p1) * (p1 - p0) / (f_2c(p1) - f_2c(p0))\n",
        "        if abs(p2 - p1) < tol:\n",
        "            return p2\n",
        "        p0, p1 = p1, p2\n",
        "    return p2\n",
        "\n",
        "# Inicialización\n",
        "p0 = 0\n",
        "p1 = math.pi / 2\n",
        "p2c_secant = secant_method(p0, p1)\n",
        "print(f\"2- c.Método de la Secante, p2: {p2c_secant}\")"
      ],
      "metadata": {
        "colab": {
          "base_uri": "https://localhost:8080/"
        },
        "id": "-cQc3qPDV-QA",
        "outputId": "4de8ade5-83e0-49b3-8b88-0a07c7ee97db"
      },
      "execution_count": 37,
      "outputs": [
        {
          "output_type": "stream",
          "name": "stdout",
          "text": [
            "2- c.Método de Newton, p2: 0.7390851332151611\n",
            "2- c.Método de la Secante, p2: 0.739085133034638\n"
          ]
        }
      ]
    },
    {
      "cell_type": "markdown",
      "source": [
        "ejer d"
      ],
      "metadata": {
        "id": "L0eo3Rnhc73K"
      }
    },
    {
      "cell_type": "code",
      "source": [
        "#Ejercicio 2. d M. Newton\n",
        "import numpy as np\n",
        "import math\n",
        "\n",
        "def f_2d(x):\n",
        "    return x - 0.8 - 0.2 * np.sin(x)\n",
        "\n",
        "def df_2d(x):\n",
        "    return 1- np.cos(x)\n",
        "\n",
        "def newton_method(f_2d, df_2d, p0, tol=1e-4, max_iter=100):\n",
        "    p = p0\n",
        "    for _ in range(max_iter):\n",
        "        p_next = p - f_2d(p) / df_2d(p)\n",
        "        if abs(p_next - p) < tol:\n",
        "            return p_next\n",
        "        p = p_next\n",
        "    return p\n",
        "\n",
        "# Inicialización\n",
        "p0 = math.pi / 4\n",
        "p2d_newton = newton_method(f_2d, df_2d, p0)\n",
        "print(f\"2- d.Método de Newton, p2: {p2d_newton}\")\n",
        "\n",
        "#Ejercicio 2. d M. Secante\n",
        "import numpy as np\n",
        "import math\n",
        "\n",
        "def f_2d(x):\n",
        "    return x - 0.8 - 0.2 * np.sin(x)\n",
        "\n",
        "def secant_method(p0, p1, tol=1e-4, max_iter=100):\n",
        "    for _ in range(max_iter):\n",
        "        if abs(f_2d(p1) - f_2d(p0)) < np.finfo(float).eps:\n",
        "            raise ValueError(\"División por cero en el método de la secante\")\n",
        "        p2 = p1 - f_2d(p1) * (p1 - p0) / (f_2d(p1) - f_2d(p0))\n",
        "        if abs(p2 - p1) < tol:\n",
        "            return p2\n",
        "        p0, p1 = p1, p2\n",
        "    return p2\n",
        "\n",
        "# Inicialización\n",
        "p0 = 0\n",
        "p1 = math.pi / 2\n",
        "p2d_secant = secant_method(p0, p1)\n",
        "print(f\"2- d.Método de la Secante, p2: {p2d_secant}\")"
      ],
      "metadata": {
        "colab": {
          "base_uri": "https://localhost:8080/"
        },
        "id": "M_VHd2xJc7cG",
        "outputId": "5437ce07-82ce-4ed1-dac3-3f8406f6185f"
      },
      "execution_count": 38,
      "outputs": [
        {
          "output_type": "stream",
          "name": "stdout",
          "text": [
            "2- d.Método de Newton, p2: 0.8884678244519421\n",
            "2- d.Método de la Secante, p2: 0.964333884548886\n"
          ]
        }
      ]
    },
    {
      "cell_type": "markdown",
      "source": [
        "- Ejercicio 3"
      ],
      "metadata": {
        "id": "x8vlLbfOTnRF"
      }
    },
    {
      "cell_type": "code",
      "source": [
        "#Ejercicio 3a M. Newton\n",
        "import numpy as np\n",
        "\n",
        "def f_3a(x):\n",
        "    return  3*x - np.exp(x)\n",
        "\n",
        "def df_3a(x):\n",
        "    return 3- np.exp(x)\n",
        "\n",
        "def newton_method(f_3a, df_3a, p0, tol=1e-4, max_iter=100):\n",
        "    p = p0\n",
        "    for _ in range(max_iter):\n",
        "        p_next = p - f_3a(p) / df_3a(p)\n",
        "        if abs(p_next - p) < tol:\n",
        "            return p_next\n",
        "        p = p_next\n",
        "    return p\n",
        "\n",
        "# Inicialización\n",
        "p0 = 1.5\n",
        "p3a_newton = newton_method(f_3a, df_3a, p0)\n",
        "print(f\"3- a.Método de Newton, p2: {p3a_newton}\")\n",
        "\n",
        "#Ejercicio 3 M. Secante ejer a\n",
        "def f_3a(x):\n",
        "    return 3*x - np.exp(x)\n",
        "\n",
        "def secant_method(f_3a, p0, p1, tol=1e-5, max_iter=100):\n",
        "    for _ in range(max_iter):\n",
        "        if abs(f_3a(p1) - f_3a(p0)) < np.finfo(float).eps:\n",
        "            raise ValueError(\"División por cero en el método de la secante\")\n",
        "        p2 = p1 - f_3a(p1) * (p1 - p0) / (f_3a(p1) - f_3a(p0))\n",
        "        if abs(p2 - p1) < tol:\n",
        "            return p2\n",
        "        p0, p1 = p1, p2\n",
        "    return p2\n",
        "\n",
        "# Inicialización\n",
        "p0_a = 1\n",
        "p1_a = 2\n",
        "p3a_secant = secant_method(f_3a, p0_a, p1_a)\n",
        "print(f\"\\n3- a. Método de la Secante, p2: {p3a_secant}\")"
      ],
      "metadata": {
        "colab": {
          "base_uri": "https://localhost:8080/"
        },
        "id": "35GJcATNGc0D",
        "outputId": "d90bd846-da0d-4e17-817d-bb3c78f1bb09"
      },
      "execution_count": 49,
      "outputs": [
        {
          "output_type": "stream",
          "name": "stdout",
          "text": [
            "3- a.Método de Newton, p2: 1.5121345516578504\n",
            "\n",
            "3- a. Método de la Secante, p2: 1.5121345517620621\n"
          ]
        }
      ]
    },
    {
      "cell_type": "code",
      "source": [
        "#Ejercicio 3b M. Newton\n",
        "import numpy as np\n",
        "\n",
        "def f_3b(x):\n",
        "    return  2*x + 3* np.cos(x) - np.exp(x)\n",
        "\n",
        "def df_3b(x):\n",
        "    return 2 - np.sin(x) - np.exp(x)\n",
        "\n",
        "def newton_method(f_3b, df_3b, p0, tol=1e-4, max_iter=100):\n",
        "    p = p0\n",
        "    for _ in range(max_iter):\n",
        "        p_next = p - f_3b(p) / df_3b(p)\n",
        "        if abs(p_next - p) < tol:\n",
        "            return p_next\n",
        "        p = p_next\n",
        "    return p\n",
        "\n",
        "# Inicialización\n",
        "p0 = 1.5\n",
        "p3b_newton = newton_method(f_3b, df_3b, p0)\n",
        "print(f\"3- b.Método de Newton, p2: {p3b_newton}\")\n",
        "\n",
        "#Ejercicio 3b M. Secante\n",
        "def f_3b(x):\n",
        "    return  2*x + 3* np.cos(x) - np.exp(x)\n",
        "\n",
        "def secant_method(f_3b, p0, p1, tol=1e-5, max_iter=100):\n",
        "    for _ in range(max_iter):\n",
        "        if abs(f_3b(p1) - f_3b(p0)) < np.finfo(float).eps:\n",
        "            raise ValueError(\"División por cero en el método de la secante\")\n",
        "        p2 = p1 - f_3b(p1) * (p1 - p0) / (f_3b(p1) - f_3b(p0))\n",
        "        if abs(p2 - p1) < tol:\n",
        "            return p2\n",
        "        p0, p1 = p1, p2\n",
        "    return p2\n",
        "\n",
        "# Inicialización\n",
        "p0_a = 1\n",
        "p1_a = 2\n",
        "p3b_secant = secant_method(f_3b, p0_a, p1_a)\n",
        "print(f\"\\n3- b. Método de la Secante, p2: {p3b_secant}\")"
      ],
      "metadata": {
        "colab": {
          "base_uri": "https://localhost:8080/"
        },
        "outputId": "2afa76d4-05a4-45e6-fefc-e81a1f858e58",
        "id": "eZ09TESSlLQP"
      },
      "execution_count": 47,
      "outputs": [
        {
          "output_type": "stream",
          "name": "stdout",
          "text": [
            "3- b.Método de Newton, p2: 1.2397567069537503\n",
            "\n",
            "3- b. Método de la Secante, p2: 1.2397146979752531\n"
          ]
        }
      ]
    },
    {
      "cell_type": "markdown",
      "source": [
        "- Ejercicio 4"
      ],
      "metadata": {
        "id": "P5hW2TuVusZu"
      }
    },
    {
      "cell_type": "code",
      "source": [
        "def f(x):\n",
        "    return 230 * x**4 + 18 * x**3 + 9 * x**2 - 221 * x - 9\n",
        "\n",
        "def df(x):\n",
        "    return 920 * x**3 + 54 * x**2 + 18 * x - 221\n",
        "\n",
        "def secant_method(func, x0, x1, tol=1e-6, max_iter=100):\n",
        "    for i in range(max_iter):\n",
        "        x2 = x1 - func(x1) * (x1 - x0) / (func(x1) - func(x0))\n",
        "        if abs(x2 - x1) < tol:\n",
        "            return x2\n",
        "        x0, x1 = x1, x2\n",
        "    raise ValueError(\"Secant method did not converge\")\n",
        "\n",
        "def newton_method(func, deriv, x0, tol=1e-6, max_iter=100):\n",
        "    for i in range(max_iter):\n",
        "        x1 = x0 - func(x0) / deriv(x0)\n",
        "        if abs(x1 - x0) < tol:\n",
        "            return x1\n",
        "        x0 = x1\n",
        "    raise ValueError(\"Newton method did not converge\")\n",
        "\n",
        "# Intervalos dados\n",
        "a = -1\n",
        "b = 0\n",
        "c = 0\n",
        "d = 1\n",
        "\n",
        "\n",
        "# Método de la secante\n",
        "sec1 = secant_method(f, a, b)\n",
        "sec2 = secant_method(f, c, d)\n",
        "\n",
        "# Método de Newton\n",
        "new1 = newton_method(f, df, (a+b)/2)\n",
        "new2 = newton_method(f, df, (c+d)/2)\n",
        "\n",
        "print(\"4- a.Método de la secante:\")\n",
        "print(\"Raíz 1:\", sec1)\n",
        "print(\"Raíz 2:\", sec2)\n",
        "\n",
        "print(\"\\n4- b. Método de Newton:\")\n",
        "print(\"Raíz 1:\", new1)\n",
        "print(\"Raíz 2:\", new2)\n"
      ],
      "metadata": {
        "colab": {
          "base_uri": "https://localhost:8080/"
        },
        "id": "j9y6I2PIuvHt",
        "outputId": "2450319f-75fc-4759-fc1a-f10a4bdc60de"
      },
      "execution_count": 41,
      "outputs": [
        {
          "output_type": "stream",
          "name": "stdout",
          "text": [
            "4- a.Método de la secante:\n",
            "Raíz 1: -0.040659288315725135\n",
            "Raíz 2: -0.04065928831557162\n",
            "\n",
            "4- b. Método de Newton:\n",
            "Raíz 1: -0.04065928831575899\n",
            "Raíz 2: -0.040659288315758865\n"
          ]
        }
      ]
    },
    {
      "cell_type": "markdown",
      "source": [
        "- Ejercicio 5"
      ],
      "metadata": {
        "id": "TfIAF_SODY_h"
      }
    },
    {
      "cell_type": "code",
      "source": [
        "import math\n",
        "\n",
        "def f_4(x):\n",
        "    return math.tan(math.pi * x) - 6\n",
        "\n",
        "def df_4(x):\n",
        "    return math.pi / (math.cos(math.pi * x))**2\n",
        "\n",
        "def bisection_method(f_4, a, b, tol=1e-6, max_iter=10):\n",
        "    if f_4(a) * f_4(b) >= 0:\n",
        "        raise ValueError(\"La función debe tener valores opuestos en los extremos del intervalo\")\n",
        "    for i in range(max_iter):\n",
        "        c = (a + b) / 2\n",
        "        if abs(f_4(c)) < tol:\n",
        "            return c\n",
        "        if f_4(c) * f_4(a) < 0:\n",
        "            b = c\n",
        "        else:\n",
        "            a = c\n",
        "    raise ValueError(\"M. Bisección no convergió\")\n",
        "\n",
        "def newton_method(f_4, df_4, x0, tol=1e-6, max_iter=10):\n",
        "    for i in range(max_iter):\n",
        "        x1 = x0 - f_4(x0) / df_4(x0)\n",
        "        if abs(x1 - x0) < tol:\n",
        "            return x1\n",
        "        x0 = x1\n",
        "    raise ValueError(\"M. Newton no convergió\")\n",
        "\n",
        "def secant_method(f_4, x0, x1, tol=1e-6, max_iter=10):\n",
        "    for i in range(max_iter):\n",
        "        x2 = x1 - f_4(x1) * (x1 - x0) / (f_4(x1) - f_4(x0))\n",
        "        if abs(x2 - x1) < tol:\n",
        "            return x2\n",
        "        x0, x1 = x1, x2\n",
        "    raise ValueError(\"M. Secante no convergió\")\n",
        "\n",
        "p0 = 0\n",
        "p1 = 0.48\n",
        "\n",
        "# Método de Bisección\n",
        "print(\"5- a.M. Bisección:\")\n",
        "try:\n",
        "    root_bisection = bisection_method(f_4, p0, p1)\n",
        "    print(\"Raíz:\", root_bisection)\n",
        "except ValueError as e:\n",
        "    print(e)\n",
        "\n",
        "# Método de Newton\n",
        "print(\"\\n5- b.M. Newton:\")\n",
        "try:\n",
        "    root_newton = newton_method(f_4, df_4, p1)\n",
        "    print(\"Raíz:\", root_newton)\n",
        "except ValueError as e:\n",
        "    print(e)\n",
        "\n",
        "# Método de la Secante\n",
        "print(\"\\n5- c.M. Secante:\")\n",
        "try:\n",
        "    root_secant = secant_method(f_4, p0, p1)\n",
        "    print(\"Raíz:\", root_secant)\n",
        "except ValueError as e:\n",
        "    print(e)\n"
      ],
      "metadata": {
        "colab": {
          "base_uri": "https://localhost:8080/"
        },
        "id": "puZGKXOpDb8G",
        "outputId": "29cb0072-c5a5-4a87-b8c5-ea64b7c9e5fa"
      },
      "execution_count": 42,
      "outputs": [
        {
          "output_type": "stream",
          "name": "stdout",
          "text": [
            "5- a.M. Bisección:\n",
            "M. Bisección no convergió\n",
            "\n",
            "5- b.M. Newton:\n",
            "Raíz: 0.4474315432887487\n",
            "\n",
            "5- c.M. Secante:\n",
            "M. Secante no convergió\n"
          ]
        }
      ]
    },
    {
      "cell_type": "markdown",
      "source": [
        "- Ejercicio 6"
      ],
      "metadata": {
        "id": "i3z-3dQ2pnlD"
      }
    },
    {
      "cell_type": "code",
      "source": [
        "import math\n",
        "\n",
        "def f_6(x):\n",
        "    return math.log(x**2 + 1) - math.exp(0.4 * x) * math.cos(math.pi * x)\n",
        "\n",
        "def df_6(x):\n",
        "    return (2 * x / (x**2 + 1)) - 0.4 * math.exp(0.4 * x) * math.cos(math.pi * x) + math.pi * math.exp(0.4 * x) * math.sin(math.pi * x)\n",
        "\n",
        "def bisection_method(f_, a, b, tol=1e-6, max_iter=100):\n",
        "    if f_6(a) * f_6(b) >= 0:\n",
        "        raise ValueError(\"La función debe tener valores opuestos en los extremos del intervalo\")\n",
        "    for i in range(max_iter):\n",
        "        c = (a + b) / 2\n",
        "        if abs(f_6(c)) < tol:\n",
        "            return c\n",
        "        if f_6(c) * f_6(a) < 0:\n",
        "            b = c\n",
        "        else:\n",
        "            a = c\n",
        "    return (a + b) / 2\n",
        "\n",
        "\n",
        "\n",
        "def newton_method(f_6, df_6, x0, tol=1e-6, max_iter=100):\n",
        "    for i in range(max_iter):\n",
        "        x1 = x0 - f_6(x0) / df_6(x0)\n",
        "        if abs(x1 - x0) < tol:\n",
        "            return x1\n",
        "        x0 = x1\n",
        "    raise ValueError(\"M. Newton no convergió\")\n",
        "\n",
        "\n",
        "#6. a\n",
        "try:\n",
        "    zero_neg = bisection_method(f_6, -2, 0)\n",
        "    print(f\"\\n6- a.El único cero negativo es aproximadamente: {zero_neg}\")\n",
        "except ValueError as e:\n",
        "    print(e)\n",
        "\n",
        "#6.b\n",
        "zeros_pos = []\n",
        "intervals = [(0, 1), (1, 2), (2, 3), (3, 4)]\n",
        "\n",
        "for interval in intervals:\n",
        "    try:\n",
        "        zero = bisection_method(f_6, interval[0], interval[1])\n",
        "        zeros_pos.append(zero)\n",
        "    except ValueError as e:\n",
        "        print(e)\n",
        "\n",
        "print(\"\\n6- b.Los cuatro ceros positivos más pequeños son aproximadamente:\", zeros_pos)\n",
        "\n",
        "#6.d\n",
        "n = 25\n",
        "initial_guess = 0.5 * (n + 1)\n",
        "\n",
        "try:\n",
        "    zero_25th = newton_method(f_6, df_6, initial_guess)\n",
        "    print(f\"\\n6- d.El vigesimoquinto cero positivo es aproximadamente: {zero_25th}\")\n",
        "except ValueError as e:\n",
        "    print(e)\n"
      ],
      "metadata": {
        "colab": {
          "base_uri": "https://localhost:8080/"
        },
        "id": "spdvTt2gppXu",
        "outputId": "a1fd8c1c-beec-4495-e021-e05cb0f051ad"
      },
      "execution_count": 2,
      "outputs": [
        {
          "output_type": "stream",
          "name": "stdout",
          "text": [
            "\n",
            "6- a.El único cero negativo es aproximadamente: -0.43414306640625\n",
            "\n",
            "6- b.Los cuatro ceros positivos más pequeños son aproximadamente: [0.4506568908691406, 1.7447381019592285, 2.2383198738098145, 3.709041118621826]\n",
            "\n",
            "6- d.El vigesimoquinto cero positivo es aproximadamente: 10.477305887176527\n"
          ]
        }
      ]
    },
    {
      "cell_type": "code",
      "source": [
        "import numpy as np\n",
        "import matplotlib.pyplot as plt\n",
        "\n",
        "def f(x):\n",
        "    return np.log(x**2 + 1) - np.exp(0.4 * x) * np.cos(np.pi * x)\n",
        "\n",
        "\n",
        "x = np.linspace(-10, 10, 1000)\n",
        "y = f(x)\n",
        "\n",
        "plt.figure(figsize=(10, 6))\n",
        "plt.plot(x, y, label=r'$f(x) = \\ln(x^2 + 1) - e^{0.4x} \\cos(\\pi x)$')\n",
        "plt.axhline(0, color='black',linewidth=0.5)\n",
        "plt.axvline(0, color='black',linewidth=0.5)\n",
        "plt.grid(color = 'gray', linestyle = '--', linewidth = 0.5)\n",
        "plt.title('6- c.Gráfica de la función $f(x) = \\ln(x^2 + 1) - e^{0.4x} \\cos(\\pi x)$')\n",
        "plt.xlabel('x')\n",
        "plt.ylabel('y')\n",
        "plt.legend()\n",
        "plt.show()\n"
      ],
      "metadata": {
        "colab": {
          "base_uri": "https://localhost:8080/",
          "height": 568
        },
        "id": "3CymPkDGrTI-",
        "outputId": "57dd0dc7-db9b-4cfe-ebc0-c7f6e41d6d72"
      },
      "execution_count": 3,
      "outputs": [
        {
          "output_type": "display_data",
          "data": {
            "text/plain": [
              "<Figure size 1000x600 with 1 Axes>"
            ],
            "image/png": "[encoded data removed]"
          },
          "metadata": {}
        }
      ]
    },
    {
      "cell_type": "markdown",
      "source": [
        "- Ejercicio 7"
      ],
      "metadata": {
        "id": "IgvlZso66bLM"
      }
    },
    {
      "cell_type": "code",
      "source": [
        "def f_7(x):\n",
        "    return x**(1/3)\n",
        "\n",
        "def df_7(x):\n",
        "    return (1/3) * x**(-2/3)\n",
        "\n",
        "def newton_method(f_7, df_7, x0, tol=1e-6, max_iter=100):\n",
        "    for i in range(max_iter):\n",
        "        x1 = x0 - f_7(x0) / df_7(x0)\n",
        "        if abs(x1 - x0) < tol:\n",
        "            return x1\n",
        "        x0 = x1\n",
        "    raise ValueError(\"7. M. Newton no convergió\")\n",
        "\n",
        "def secant_method(f_7, x0, x1, tol=1e-6, max_iter=100):\n",
        "    for i in range(max_iter):\n",
        "        x2 = x1 - f_7(x1) * (x1 - x0) / (f_7(x1) - f_7(x0))\n",
        "        if abs(x2 - x1) < tol:\n",
        "            return x2\n",
        "        x0, x1 = x1, x2\n",
        "    raise ValueError(\"7. M. Secante no convergió\")\n",
        "\n",
        "# Parámetros iniciales\n",
        "x1n = 1  # Starting point for Newton's method\n",
        "p0 = 5  # p0 for Secant method\n",
        "p1 = 0.5  # p1 for Secant method\n",
        "\n",
        "tol = 1e-6\n",
        "max_iter = 10\n",
        "\n",
        "try:\n",
        "    root_newton = newton_method(f_7, df_7, x1n, tol, max_iter)\n",
        "    print(f\"Raíz encontrada por el método de Newton: {root_newton:.6f}\")\n",
        "except ValueError as e:\n",
        "    print(e)\n",
        "\n",
        "\n",
        "try:\n",
        "    root_secant = secant_method(f_7, p0, p1, tol, max_iter)\n",
        "    print(f\"Raíz encontrada por el método de la Secante: {root_secant:.6f}\")\n",
        "except ValueError as e:\n",
        "    print(e)\n"
      ],
      "metadata": {
        "colab": {
          "base_uri": "https://localhost:8080/"
        },
        "id": "UC2_PxxF6ct3",
        "outputId": "db28ae2e-ef55-4fd6-df63-45bd7f0cb415"
      },
      "execution_count": 1,
      "outputs": [
        {
          "output_type": "stream",
          "name": "stdout",
          "text": [
            "7. M. Newton no convergió\n",
            "7. M. Secante no convergió\n"
          ]
        }
      ]
    }
  ]
}